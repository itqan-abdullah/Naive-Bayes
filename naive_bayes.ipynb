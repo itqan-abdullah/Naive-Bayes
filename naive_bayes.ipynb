{
 "cells": [
  {
   "cell_type": "markdown",
   "id": "87f1ec9f",
   "metadata": {},
   "source": [
    "<h2>Muhammad Itqan Abdullah</h2> \n",
    "<h2>CS10B 339606 AI Lab 5</h2>\n",
    "<h2>Naive Bayes</h2>"
   ]
  },
  {
   "cell_type": "code",
   "execution_count": 1,
   "id": "eb072901",
   "metadata": {},
   "outputs": [],
   "source": [
    "import pandas as pd \n",
    "data = {\n",
    "  \"department\": ['sales','sales','sales','systems','systems','systems','systems','marketing','marketing','secretary','secretary'],\n",
    "  \"status\": ['senior','junior','junior','junior','senior','junior','senior','senior','junior','senior','junior'],\n",
    "    \"age\": ['31-35','26-30','31-35','21-25','31-35','26-30','41-45','36-40','31-35','46-50','26-30'],\n",
    "    \"salary\": ['46k-50k','26k-30k','31k-35k','46k-50k','66k-70k','46k-50k','66k-70k','46k-50k','41k-45k','36k-40k','26k-30k']\n",
    "}"
   ]
  },
  {
   "cell_type": "code",
   "execution_count": 2,
   "id": "d61b6885",
   "metadata": {},
   "outputs": [],
   "source": [
    "df = pd.DataFrame(data)"
   ]
  },
  {
   "cell_type": "code",
   "execution_count": 3,
   "id": "21d53f75",
   "metadata": {
    "scrolled": true
   },
   "outputs": [
    {
     "data": {
      "text/html": [
       "<div>\n",
       "<style scoped>\n",
       "    .dataframe tbody tr th:only-of-type {\n",
       "        vertical-align: middle;\n",
       "    }\n",
       "\n",
       "    .dataframe tbody tr th {\n",
       "        vertical-align: top;\n",
       "    }\n",
       "\n",
       "    .dataframe thead th {\n",
       "        text-align: right;\n",
       "    }\n",
       "</style>\n",
       "<table border=\"1\" class=\"dataframe\">\n",
       "  <thead>\n",
       "    <tr style=\"text-align: right;\">\n",
       "      <th></th>\n",
       "      <th>department</th>\n",
       "      <th>status</th>\n",
       "      <th>age</th>\n",
       "      <th>salary</th>\n",
       "    </tr>\n",
       "  </thead>\n",
       "  <tbody>\n",
       "    <tr>\n",
       "      <th>0</th>\n",
       "      <td>sales</td>\n",
       "      <td>senior</td>\n",
       "      <td>31-35</td>\n",
       "      <td>46k-50k</td>\n",
       "    </tr>\n",
       "    <tr>\n",
       "      <th>1</th>\n",
       "      <td>sales</td>\n",
       "      <td>junior</td>\n",
       "      <td>26-30</td>\n",
       "      <td>26k-30k</td>\n",
       "    </tr>\n",
       "    <tr>\n",
       "      <th>2</th>\n",
       "      <td>sales</td>\n",
       "      <td>junior</td>\n",
       "      <td>31-35</td>\n",
       "      <td>31k-35k</td>\n",
       "    </tr>\n",
       "    <tr>\n",
       "      <th>3</th>\n",
       "      <td>systems</td>\n",
       "      <td>junior</td>\n",
       "      <td>21-25</td>\n",
       "      <td>46k-50k</td>\n",
       "    </tr>\n",
       "    <tr>\n",
       "      <th>4</th>\n",
       "      <td>systems</td>\n",
       "      <td>senior</td>\n",
       "      <td>31-35</td>\n",
       "      <td>66k-70k</td>\n",
       "    </tr>\n",
       "    <tr>\n",
       "      <th>5</th>\n",
       "      <td>systems</td>\n",
       "      <td>junior</td>\n",
       "      <td>26-30</td>\n",
       "      <td>46k-50k</td>\n",
       "    </tr>\n",
       "    <tr>\n",
       "      <th>6</th>\n",
       "      <td>systems</td>\n",
       "      <td>senior</td>\n",
       "      <td>41-45</td>\n",
       "      <td>66k-70k</td>\n",
       "    </tr>\n",
       "    <tr>\n",
       "      <th>7</th>\n",
       "      <td>marketing</td>\n",
       "      <td>senior</td>\n",
       "      <td>36-40</td>\n",
       "      <td>46k-50k</td>\n",
       "    </tr>\n",
       "    <tr>\n",
       "      <th>8</th>\n",
       "      <td>marketing</td>\n",
       "      <td>junior</td>\n",
       "      <td>31-35</td>\n",
       "      <td>41k-45k</td>\n",
       "    </tr>\n",
       "    <tr>\n",
       "      <th>9</th>\n",
       "      <td>secretary</td>\n",
       "      <td>senior</td>\n",
       "      <td>46-50</td>\n",
       "      <td>36k-40k</td>\n",
       "    </tr>\n",
       "    <tr>\n",
       "      <th>10</th>\n",
       "      <td>secretary</td>\n",
       "      <td>junior</td>\n",
       "      <td>26-30</td>\n",
       "      <td>26k-30k</td>\n",
       "    </tr>\n",
       "  </tbody>\n",
       "</table>\n",
       "</div>"
      ],
      "text/plain": [
       "   department  status    age   salary\n",
       "0       sales  senior  31-35  46k-50k\n",
       "1       sales  junior  26-30  26k-30k\n",
       "2       sales  junior  31-35  31k-35k\n",
       "3     systems  junior  21-25  46k-50k\n",
       "4     systems  senior  31-35  66k-70k\n",
       "5     systems  junior  26-30  46k-50k\n",
       "6     systems  senior  41-45  66k-70k\n",
       "7   marketing  senior  36-40  46k-50k\n",
       "8   marketing  junior  31-35  41k-45k\n",
       "9   secretary  senior  46-50  36k-40k\n",
       "10  secretary  junior  26-30  26k-30k"
      ]
     },
     "execution_count": 3,
     "metadata": {},
     "output_type": "execute_result"
    }
   ],
   "source": [
    "df\n"
   ]
  },
  {
   "cell_type": "code",
   "execution_count": 4,
   "id": "b99e28b0",
   "metadata": {},
   "outputs": [],
   "source": [
    "#dicts containing all likelihoods for senior and junior\n",
    "senior_probs = {}\n",
    "junior_probs = {}\n"
   ]
  },
  {
   "cell_type": "code",
   "execution_count": 6,
   "id": "f5dbbb7a",
   "metadata": {},
   "outputs": [],
   "source": [
    "import numpy as np\n"
   ]
  },
  {
   "cell_type": "code",
   "execution_count": 7,
   "id": "6e61b377",
   "metadata": {},
   "outputs": [],
   "source": [
    "salaries = df['salary'].unique()"
   ]
  },
  {
   "cell_type": "code",
   "execution_count": 8,
   "id": "ddc4c674",
   "metadata": {},
   "outputs": [
    {
     "data": {
      "text/html": [
       "<div>\n",
       "<style scoped>\n",
       "    .dataframe tbody tr th:only-of-type {\n",
       "        vertical-align: middle;\n",
       "    }\n",
       "\n",
       "    .dataframe tbody tr th {\n",
       "        vertical-align: top;\n",
       "    }\n",
       "\n",
       "    .dataframe thead th {\n",
       "        text-align: right;\n",
       "    }\n",
       "</style>\n",
       "<table border=\"1\" class=\"dataframe\">\n",
       "  <thead>\n",
       "    <tr style=\"text-align: right;\">\n",
       "      <th></th>\n",
       "      <th>department</th>\n",
       "      <th>status</th>\n",
       "      <th>age</th>\n",
       "      <th>salary</th>\n",
       "    </tr>\n",
       "  </thead>\n",
       "  <tbody>\n",
       "    <tr>\n",
       "      <th>0</th>\n",
       "      <td>sales</td>\n",
       "      <td>senior</td>\n",
       "      <td>31-35</td>\n",
       "      <td>46k-50k</td>\n",
       "    </tr>\n",
       "    <tr>\n",
       "      <th>4</th>\n",
       "      <td>systems</td>\n",
       "      <td>senior</td>\n",
       "      <td>31-35</td>\n",
       "      <td>66k-70k</td>\n",
       "    </tr>\n",
       "    <tr>\n",
       "      <th>6</th>\n",
       "      <td>systems</td>\n",
       "      <td>senior</td>\n",
       "      <td>41-45</td>\n",
       "      <td>66k-70k</td>\n",
       "    </tr>\n",
       "    <tr>\n",
       "      <th>7</th>\n",
       "      <td>marketing</td>\n",
       "      <td>senior</td>\n",
       "      <td>36-40</td>\n",
       "      <td>46k-50k</td>\n",
       "    </tr>\n",
       "    <tr>\n",
       "      <th>9</th>\n",
       "      <td>secretary</td>\n",
       "      <td>senior</td>\n",
       "      <td>46-50</td>\n",
       "      <td>36k-40k</td>\n",
       "    </tr>\n",
       "  </tbody>\n",
       "</table>\n",
       "</div>"
      ],
      "text/plain": [
       "  department  status    age   salary\n",
       "0      sales  senior  31-35  46k-50k\n",
       "4    systems  senior  31-35  66k-70k\n",
       "6    systems  senior  41-45  66k-70k\n",
       "7  marketing  senior  36-40  46k-50k\n",
       "9  secretary  senior  46-50  36k-40k"
      ]
     },
     "execution_count": 8,
     "metadata": {},
     "output_type": "execute_result"
    }
   ],
   "source": [
    "df[df['status'] == 'senior']"
   ]
  },
  {
   "cell_type": "code",
   "execution_count": 9,
   "id": "8d61d87a",
   "metadata": {},
   "outputs": [],
   "source": [
    "juniors_df = df[df['status'] == 'junior']"
   ]
  },
  {
   "cell_type": "code",
   "execution_count": 10,
   "id": "16d08321",
   "metadata": {},
   "outputs": [],
   "source": [
    "seniors_df = df[df['status'] == 'senior']"
   ]
  },
  {
   "cell_type": "code",
   "execution_count": 11,
   "id": "f0ca3d10",
   "metadata": {},
   "outputs": [],
   "source": [
    "total_seniors =  np.shape(seniors_df)[0] * np.shape(seniors_df)[1] - len(df[df['status'] == 'senior'])"
   ]
  },
  {
   "cell_type": "code",
   "execution_count": 12,
   "id": "64846198",
   "metadata": {},
   "outputs": [],
   "source": [
    "total_juniors =  np.shape(juniors_df)[0] * np.shape(juniors_df)[1] - len(df[df['status'] == 'junior'])"
   ]
  },
  {
   "cell_type": "code",
   "execution_count": 13,
   "id": "f00a84c5",
   "metadata": {},
   "outputs": [
    {
     "data": {
      "text/plain": [
       "15"
      ]
     },
     "execution_count": 13,
     "metadata": {},
     "output_type": "execute_result"
    }
   ],
   "source": [
    "total_seniors"
   ]
  },
  {
   "cell_type": "code",
   "execution_count": 14,
   "id": "c2205cf0",
   "metadata": {},
   "outputs": [],
   "source": [
    "for salary in salaries:\n",
    "    senior_probs[salary] = (len(seniors_df[seniors_df['salary'] == salary]) + 1)/total_seniors"
   ]
  },
  {
   "cell_type": "code",
   "execution_count": 15,
   "id": "da7fa738",
   "metadata": {},
   "outputs": [
    {
     "data": {
      "text/plain": [
       "{'46k-50k': 0.2,\n",
       " '26k-30k': 0.06666666666666667,\n",
       " '31k-35k': 0.06666666666666667,\n",
       " '66k-70k': 0.2,\n",
       " '41k-45k': 0.06666666666666667,\n",
       " '36k-40k': 0.13333333333333333}"
      ]
     },
     "execution_count": 15,
     "metadata": {},
     "output_type": "execute_result"
    }
   ],
   "source": [
    "senior_probs"
   ]
  },
  {
   "cell_type": "code",
   "execution_count": 16,
   "id": "90e76ce6",
   "metadata": {},
   "outputs": [],
   "source": [
    "for salary in salaries:\n",
    "    junior_probs[salary] = (len(juniors_df[juniors_df['salary'] == salary])+ 1)/total_juniors"
   ]
  },
  {
   "cell_type": "code",
   "execution_count": 17,
   "id": "45287121",
   "metadata": {},
   "outputs": [
    {
     "data": {
      "text/plain": [
       "{'46k-50k': 0.16666666666666666,\n",
       " '26k-30k': 0.16666666666666666,\n",
       " '31k-35k': 0.1111111111111111,\n",
       " '66k-70k': 0.05555555555555555,\n",
       " '41k-45k': 0.1111111111111111,\n",
       " '36k-40k': 0.05555555555555555}"
      ]
     },
     "execution_count": 17,
     "metadata": {},
     "output_type": "execute_result"
    }
   ],
   "source": [
    "junior_probs"
   ]
  },
  {
   "cell_type": "code",
   "execution_count": 18,
   "id": "b3ee3461",
   "metadata": {},
   "outputs": [],
   "source": [
    "ages = df['age'].unique()"
   ]
  },
  {
   "cell_type": "code",
   "execution_count": 19,
   "id": "33059dbc",
   "metadata": {},
   "outputs": [],
   "source": [
    "for age in ages:\n",
    "    senior_probs[age] = (len(seniors_df[seniors_df['age'] == age]) + 1)/total_seniors"
   ]
  },
  {
   "cell_type": "code",
   "execution_count": 20,
   "id": "dfffbb90",
   "metadata": {},
   "outputs": [
    {
     "data": {
      "text/plain": [
       "{'46k-50k': 0.2,\n",
       " '26k-30k': 0.06666666666666667,\n",
       " '31k-35k': 0.06666666666666667,\n",
       " '66k-70k': 0.2,\n",
       " '41k-45k': 0.06666666666666667,\n",
       " '36k-40k': 0.13333333333333333,\n",
       " '31-35': 0.2,\n",
       " '26-30': 0.06666666666666667,\n",
       " '21-25': 0.06666666666666667,\n",
       " '41-45': 0.13333333333333333,\n",
       " '36-40': 0.13333333333333333,\n",
       " '46-50': 0.13333333333333333}"
      ]
     },
     "execution_count": 20,
     "metadata": {},
     "output_type": "execute_result"
    }
   ],
   "source": [
    "senior_probs"
   ]
  },
  {
   "cell_type": "code",
   "execution_count": 21,
   "id": "d7f79441",
   "metadata": {},
   "outputs": [],
   "source": [
    "for age in ages:\n",
    "    junior_probs[age] = (len(juniors_df[juniors_df['age'] == age]) + 1)/total_juniors"
   ]
  },
  {
   "cell_type": "code",
   "execution_count": 22,
   "id": "161f46ab",
   "metadata": {},
   "outputs": [
    {
     "data": {
      "text/plain": [
       "{'46k-50k': 0.16666666666666666,\n",
       " '26k-30k': 0.16666666666666666,\n",
       " '31k-35k': 0.1111111111111111,\n",
       " '66k-70k': 0.05555555555555555,\n",
       " '41k-45k': 0.1111111111111111,\n",
       " '36k-40k': 0.05555555555555555,\n",
       " '31-35': 0.16666666666666666,\n",
       " '26-30': 0.2222222222222222,\n",
       " '21-25': 0.1111111111111111,\n",
       " '41-45': 0.05555555555555555,\n",
       " '36-40': 0.05555555555555555,\n",
       " '46-50': 0.05555555555555555}"
      ]
     },
     "execution_count": 22,
     "metadata": {},
     "output_type": "execute_result"
    }
   ],
   "source": [
    "junior_probs"
   ]
  },
  {
   "cell_type": "code",
   "execution_count": 23,
   "id": "f14988f8",
   "metadata": {},
   "outputs": [],
   "source": [
    "depts = df['department'].unique()"
   ]
  },
  {
   "cell_type": "code",
   "execution_count": 24,
   "id": "4cf074cb",
   "metadata": {},
   "outputs": [],
   "source": [
    "for dept in depts:\n",
    "    junior_probs[dept] = (len(juniors_df[juniors_df['department'] == dept]) + 1)/total_juniors"
   ]
  },
  {
   "cell_type": "code",
   "execution_count": 25,
   "id": "84c741e0",
   "metadata": {},
   "outputs": [
    {
     "data": {
      "text/plain": [
       "{'46k-50k': 0.16666666666666666,\n",
       " '26k-30k': 0.16666666666666666,\n",
       " '31k-35k': 0.1111111111111111,\n",
       " '66k-70k': 0.05555555555555555,\n",
       " '41k-45k': 0.1111111111111111,\n",
       " '36k-40k': 0.05555555555555555,\n",
       " '31-35': 0.16666666666666666,\n",
       " '26-30': 0.2222222222222222,\n",
       " '21-25': 0.1111111111111111,\n",
       " '41-45': 0.05555555555555555,\n",
       " '36-40': 0.05555555555555555,\n",
       " '46-50': 0.05555555555555555,\n",
       " 'sales': 0.16666666666666666,\n",
       " 'systems': 0.16666666666666666,\n",
       " 'marketing': 0.1111111111111111,\n",
       " 'secretary': 0.1111111111111111}"
      ]
     },
     "execution_count": 25,
     "metadata": {},
     "output_type": "execute_result"
    }
   ],
   "source": [
    "junior_probs"
   ]
  },
  {
   "cell_type": "code",
   "execution_count": 26,
   "id": "be963254",
   "metadata": {},
   "outputs": [],
   "source": [
    "for dept in depts:\n",
    "    senior_probs[dept] = (len(seniors_df[seniors_df['department'] == dept]) + 1)/total_seniors"
   ]
  },
  {
   "cell_type": "code",
   "execution_count": 27,
   "id": "e3984a9e",
   "metadata": {},
   "outputs": [
    {
     "data": {
      "text/plain": [
       "{'46k-50k': 0.2,\n",
       " '26k-30k': 0.06666666666666667,\n",
       " '31k-35k': 0.06666666666666667,\n",
       " '66k-70k': 0.2,\n",
       " '41k-45k': 0.06666666666666667,\n",
       " '36k-40k': 0.13333333333333333,\n",
       " '31-35': 0.2,\n",
       " '26-30': 0.06666666666666667,\n",
       " '21-25': 0.06666666666666667,\n",
       " '41-45': 0.13333333333333333,\n",
       " '36-40': 0.13333333333333333,\n",
       " '46-50': 0.13333333333333333,\n",
       " 'sales': 0.13333333333333333,\n",
       " 'systems': 0.2,\n",
       " 'marketing': 0.13333333333333333,\n",
       " 'secretary': 0.13333333333333333}"
      ]
     },
     "execution_count": 27,
     "metadata": {},
     "output_type": "execute_result"
    }
   ],
   "source": [
    "senior_probs"
   ]
  },
  {
   "cell_type": "code",
   "execution_count": 28,
   "id": "3a9b8ca9",
   "metadata": {},
   "outputs": [],
   "source": [
    "prob_of_senior = len(df[df['status' ] == 'senior'])/len(df)"
   ]
  },
  {
   "cell_type": "code",
   "execution_count": 29,
   "id": "7fa44afa",
   "metadata": {},
   "outputs": [
    {
     "data": {
      "text/plain": [
       "0.45454545454545453"
      ]
     },
     "execution_count": 29,
     "metadata": {},
     "output_type": "execute_result"
    }
   ],
   "source": [
    "prob_of_senior"
   ]
  },
  {
   "cell_type": "code",
   "execution_count": 30,
   "id": "c3f9298d",
   "metadata": {},
   "outputs": [],
   "source": [
    "prob_of_junior = 1 - prob_of_senior"
   ]
  },
  {
   "cell_type": "code",
   "execution_count": 45,
   "id": "af1e92c4",
   "metadata": {},
   "outputs": [
    {
     "data": {
      "text/plain": [
       "0.5454545454545454"
      ]
     },
     "execution_count": 45,
     "metadata": {},
     "output_type": "execute_result"
    }
   ],
   "source": [
    "prob_of_junior"
   ]
  },
  {
   "cell_type": "markdown",
   "id": "7b83c686",
   "metadata": {},
   "source": [
    "<h3> Inference function </h3>"
   ]
  },
  {
   "cell_type": "code",
   "execution_count": 31,
   "id": "e791a635",
   "metadata": {},
   "outputs": [],
   "source": [
    "\n",
    "def inference(features):\n",
    "    p_sen = prob_of_senior*senior_probs[features[0]]*senior_probs[features[1]]*senior_probs[features[2]]\n",
    "    \n",
    "    p_jun = prob_of_junior*junior_probs[features[0]]*junior_probs[features[1]]*junior_probs[features[2]]\n",
    "    print(\"senior score: \",p_sen)\n",
    "    print(\"junior score: \",p_jun)\n",
    "    if(p_sen >= p_jun):\n",
    "        print(\"More likely to be a senior\")\n",
    "    else:\n",
    "        print(\"More likely to be a junior\")\n",
    "    "
   ]
  },
  {
   "cell_type": "code",
   "execution_count": 32,
   "id": "a7710de6",
   "metadata": {},
   "outputs": [
    {
     "name": "stdout",
     "output_type": "stream",
     "text": [
      "senior score:  0.0024242424242424242\n",
      "junior score:  0.0016835016835016832\n",
      "More likely to be a senior\n"
     ]
    }
   ],
   "source": [
    "feature1 = [\"marketing\", \"31-35\", \"46k-50k\"]\n",
    "inference(feature1)"
   ]
  },
  {
   "cell_type": "code",
   "execution_count": 33,
   "id": "d70ce8ec",
   "metadata": {},
   "outputs": [
    {
     "name": "stdout",
     "output_type": "stream",
     "text": [
      "senior score:  0.0024242424242424242\n",
      "junior score:  0.0008417508417508415\n",
      "More likely to be a senior\n"
     ]
    }
   ],
   "source": [
    "feature2 = [\"sales\", \"31-35\", \"66k-70k\"]\n",
    "inference(feature2)"
   ]
  },
  {
   "cell_type": "code",
   "execution_count": null,
   "id": "4d075cab",
   "metadata": {},
   "outputs": [],
   "source": []
  }
 ],
 "metadata": {
  "kernelspec": {
   "display_name": "Python 3 (ipykernel)",
   "language": "python",
   "name": "python3"
  },
  "language_info": {
   "codemirror_mode": {
    "name": "ipython",
    "version": 3
   },
   "file_extension": ".py",
   "mimetype": "text/x-python",
   "name": "python",
   "nbconvert_exporter": "python",
   "pygments_lexer": "ipython3",
   "version": "3.9.12"
  }
 },
 "nbformat": 4,
 "nbformat_minor": 5
}
